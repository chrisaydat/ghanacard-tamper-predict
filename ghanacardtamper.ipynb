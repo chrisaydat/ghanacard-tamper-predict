{
 "cells": [
  {
   "cell_type": "code",
   "execution_count": null,
   "metadata": {},
   "outputs": [],
   "source": [
    "from skimage.metrics import structural_similarity\n",
    "import cv2\n",
    "import imutils\n",
    "import requests\n",
    "from PIL import Image\n"
   ]
  },
  {
   "cell_type": "code",
   "execution_count": null,
   "metadata": {},
   "outputs": [],
   "source": [
    "!mkdir ghscard_tamper\n",
    "!mkdir ghscard_tamper/images"
   ]
  },
  {
   "cell_type": "code",
   "execution_count": null,
   "metadata": {},
   "outputs": [],
   "source": [
    "#open images and display, both images show an orginal and a tampered one\n",
    "original = Image.open(requests.get('https://theghanatech.com/wp-content/uploads/2021/06/Ghana-Card-original-min.jpg', stream=True).raw)\n",
    "tampered = Image.open(requests.get('https://scontent.facc7-1.fna.fbcdn.net/v/t1.6435-9/35433362_2206549336039159_998699021532921856_n.jpg?_nc_cat=111&ccb=1-7&_nc_sid=8bfeb9&_nc_ohc=tSu2jq4kvdYAX8ZQlXB&_nc_ht=scontent.facc7-1.fna&oh=00_AfCS7U88TL7h-p-hGmbD5G_nvfMRvJqqTpcEk_OkVSeMiw&oe=64CC9376', stream=True).raw)"
   ]
  },
  {
   "cell_type": "code",
   "execution_count": null,
   "metadata": {},
   "outputs": [],
   "source": [
    "print(\"Original Image format: \", original.format)\n",
    "print(\"Tampered Image format: \", tampered.format)\n",
    "\n",
    "print(\"Original Image size: \", original.size)\n",
    "print(\"Tampered Image size: \", tampered.size)"
   ]
  },
  {
   "cell_type": "code",
   "execution_count": null,
   "metadata": {},
   "outputs": [],
   "source": [
    "#image resize into same sizes\n",
    "original = original.resize((400, 400))\n",
    "print (original.resize)\n",
    "original.save('ghscard_tamper/images/original.jpg') #saves image into folder\n",
    "tampered = tampered.resize((400, 400))\n",
    "print (tampered.resize)\n",
    "tampered.save('ghscard_tamper/images/tampered.jpg') #saves image into folder\n",
    "\n"
   ]
  },
  {
   "cell_type": "code",
   "execution_count": null,
   "metadata": {},
   "outputs": [],
   "source": [
    "#display orginal image\n",
    "original"
   ]
  },
  {
   "cell_type": "code",
   "execution_count": null,
   "metadata": {},
   "outputs": [],
   "source": [
    "#display tampered image\n",
    "tampered"
   ]
  },
  {
   "cell_type": "code",
   "execution_count": null,
   "metadata": {},
   "outputs": [],
   "source": [
    "#upload/load the images into cv2\n",
    "original = cv2.imread('ghscard_tamper/images/original.jpg')\n",
    "tampered = cv2.imread('ghscard_tamper/images/tampered.jpg')"
   ]
  },
  {
   "cell_type": "code",
   "execution_count": null,
   "metadata": {},
   "outputs": [],
   "source": [
    "#convert images to greyscale\n",
    "original = cv2.cvtColor(original, cv2.COLOR_BGR2GRAY)\n",
    "tampered = cv2.cvtColor(tampered, cv2.COLOR_BGR2GRAY)"
   ]
  },
  {
   "cell_type": "code",
   "execution_count": null,
   "metadata": {},
   "outputs": [],
   "source": [
    "#compute structural similarity index (SSIM) between the two images, ensuring that the difference image is returned\n",
    "(score, diff) = structural_similarity(original, tampered, full=True)\n",
    "diff = (diff * 255).astype(\"uint8\")\n",
    "print(\"SSIM: {}\".format(score))"
   ]
  },
  {
   "cell_type": "code",
   "execution_count": null,
   "metadata": {},
   "outputs": [],
   "source": [
    "#calculate threshold and contours\n",
    "thresh = cv2.threshold(diff, 0, 255, cv2.THRESH_BINARY_INV | cv2.THRESH_OTSU)[1]\n",
    "contours = cv2.findContours(thresh.copy(), cv2.RETR_EXTERNAL, cv2.CHAIN_APPROX_SIMPLE)\n",
    "contours = imutils.grab_contours(contours)"
   ]
  },
  {
   "cell_type": "code",
   "execution_count": null,
   "metadata": {},
   "outputs": [],
   "source": [
    "#loop over the contours\n",
    "for c in contours:\n",
    "    #apply contours to image\n",
    "    (x, y, w, h) = cv2.boundingRect(c)\n",
    "    cv2.rectangle(original, (x, y), (x + w, y + h), (0, 0, 255), 2) # type: ignore\n",
    "    cv2.rectangle(tampered, (x, y), (x + w, y + h), (0, 0, 255), 2) # type: ignore\n"
   ]
  },
  {
   "cell_type": "code",
   "execution_count": null,
   "metadata": {},
   "outputs": [],
   "source": [
    "#display orginal image with contour\n",
    "print(\"Original format Image\")\n",
    "Image.fromarray(original)"
   ]
  },
  {
   "cell_type": "code",
   "execution_count": null,
   "metadata": {},
   "outputs": [],
   "source": [
    "#display tampered image with contour\n",
    "print(\"Tampered format Image\")\n",
    "Image.fromarray(tampered)"
   ]
  },
  {
   "cell_type": "code",
   "execution_count": null,
   "metadata": {},
   "outputs": [],
   "source": [
    "#display difference in Image with black \n",
    "print(\"Difference Image\")\n",
    "Image.fromarray(diff)"
   ]
  },
  {
   "cell_type": "code",
   "execution_count": null,
   "metadata": {},
   "outputs": [],
   "source": [
    "#display threshold in Image with white\n",
    "print(\"Threshold Image\")\n",
    "Image.fromarray(thresh)"
   ]
  },
  {
   "cell_type": "code",
   "execution_count": null,
   "metadata": {},
   "outputs": [],
   "source": []
  }
 ],
 "metadata": {
  "kernelspec": {
   "display_name": "Python 3",
   "language": "python",
   "name": "python3"
  },
  "language_info": {
   "codemirror_mode": {
    "name": "ipython",
    "version": 3
   },
   "file_extension": ".py",
   "mimetype": "text/x-python",
   "name": "python",
   "nbconvert_exporter": "python",
   "pygments_lexer": "ipython3",
   "version": "3.11.4"
  },
  "orig_nbformat": 4
 },
 "nbformat": 4,
 "nbformat_minor": 2
}
